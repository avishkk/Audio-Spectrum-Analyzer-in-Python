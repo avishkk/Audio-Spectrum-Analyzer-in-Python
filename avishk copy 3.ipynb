{
 "cells": [
  {
   "cell_type": "code",
   "execution_count": 1,
   "metadata": {
    "collapsed": true
   },
   "outputs": [
    {
     "name": "stdout",
     "output_type": "stream",
     "text": [
      "stream started\n"
     ]
    },
    {
     "ename": "error",
     "evalue": "unpack requires a buffer of 16384 bytes",
     "output_type": "error",
     "traceback": [
      "\u001b[1;31m---------------------------------------------------------------------------\u001b[0m",
      "\u001b[1;31merror\u001b[0m                                     Traceback (most recent call last)",
      "Cell \u001b[1;32mIn[1], line 78\u001b[0m\n\u001b[0;32m     73\u001b[0m latencies \u001b[39m=\u001b[39m []  \u001b[39m# List to store latency values\u001b[39;00m\n\u001b[0;32m     75\u001b[0m \u001b[39mwhile\u001b[39;00m \u001b[39mlen\u001b[39m(data) \u001b[39m>\u001b[39m \u001b[39m0\u001b[39m:\n\u001b[0;32m     76\u001b[0m \n\u001b[0;32m     77\u001b[0m     \u001b[39m# convert data to integers, make np array, then offset it by 128\u001b[39;00m\n\u001b[1;32m---> 78\u001b[0m     data_int \u001b[39m=\u001b[39m np\u001b[39m.\u001b[39marray(struct\u001b[39m.\u001b[39;49munpack(\u001b[39mf\u001b[39;49m\u001b[39m\"\u001b[39;49m\u001b[39m{\u001b[39;49;00m\u001b[39m2\u001b[39;49m\u001b[39m \u001b[39;49m\u001b[39m*\u001b[39;49m\u001b[39m \u001b[39;49mCHUNK\u001b[39m}\u001b[39;49;00m\u001b[39mh\u001b[39;49m\u001b[39m\"\u001b[39;49m, data), dtype\u001b[39m=\u001b[39mnp\u001b[39m.\u001b[39mint16) \u001b[39m+\u001b[39m \u001b[39m128\u001b[39m\n\u001b[0;32m     80\u001b[0m     \u001b[39m# compute FFT and update line\u001b[39;00m\n\u001b[0;32m     81\u001b[0m     yf \u001b[39m=\u001b[39m fft(data_int)\n",
      "\u001b[1;31merror\u001b[0m: unpack requires a buffer of 16384 bytes"
     ]
    }
   ],
   "source": [
    "import pyaudio\n",
    "import os\n",
    "import struct\n",
    "import numpy as np\n",
    "import matplotlib.pyplot as plt\n",
    "from scipy.fftpack import fft\n",
    "import time\n",
    "from tkinter import TclError\n",
    "import serial\n",
    "import wave\n",
    "from scipy.signal import butter, filtfilt\n",
    "\n",
    "# to display in separate Tk window\n",
    "%matplotlib tk\n",
    "\n",
    "# constants\n",
    "CHUNK = 1024*4  # samples per frame\n",
    "FORMAT = pyaudio.paInt16  # audio format (bytes per sample)\n",
    "CHANNELS = 1  # single channel for microphone\n",
    "RATE = 44100  # samples per second\n",
    "\n",
    "wav_file = wave.open(r\"C:\\Users\\rajka\\Downloads\\800-1000 alternating.WAV\", 'rb')\n",
    "\n",
    "# Set up serial communication with Arduino\n",
    "arduino = serial.Serial('COM4', 9600)\n",
    "time.sleep(2)  # Wait for Arduino to initialize\n",
    "\n",
    "# pyaudio class instance\n",
    "p = pyaudio.PyAudio()\n",
    "\n",
    "# stream object to get data from microphone\n",
    "stream = p.open(\n",
    "    format=p.get_format_from_width(wav_file.getsampwidth()),\n",
    "    channels=wav_file.getnchannels(),\n",
    "    rate=wav_file.getframerate(),\n",
    "    input=False,\n",
    "    output=True,\n",
    "    frames_per_buffer=CHUNK\n",
    ")\n",
    "\n",
    "# variable for plotting\n",
    "xf = np.linspace(0, RATE, CHUNK)  # frequencies (spectrum)\n",
    "\n",
    "# create matplotlib figure and axes\n",
    "fig, ax2 = plt.subplots(figsize=(15, 7))\n",
    "\n",
    "# create semilogx line for spectrum\n",
    "line_fft, = ax2.semilogx(xf, np.random.rand(CHUNK), '-', lw=2)\n",
    "\n",
    "# format spectrum axes\n",
    "ax2.set_xlim(20, RATE / 2)\n",
    "\n",
    "print('stream started')\n",
    "var = 50\n",
    "# Define the frequency ranges for the two frequencies\n",
    "freq_range_1 = (100 - var, 100 + var)  # Frequency range for 100 Hz\n",
    "freq_range_2 = (5000 - var, 5000 + var)  # Frequency range for 5000 Hz\n",
    "\n",
    "# Indices corresponding to the chosen frequency ranges\n",
    "chosen_indices_1 = np.where((xf >= freq_range_1[0]) & (xf <= freq_range_1[1]))[0]\n",
    "chosen_indices_2 = np.where((xf >= freq_range_2[0]) & (xf <= freq_range_2[1]))[0]\n",
    "\n",
    "# Chosen frequencies array\n",
    "chosen_frequencies = [freq_range_1, freq_range_2]\n",
    "\n",
    "# for measuring frame rate\n",
    "frame_count = 0\n",
    "start_time = time.time()\n",
    "\n",
    "# Read the audio data from the .wav file\n",
    "data = wav_file.readframes(CHUNK)\n",
    "\n",
    "latencies = []  # List to store latency values\n",
    "\n",
    "while len(data) > 0:\n",
    "\n",
    "    # convert data to integers, make np array, then offset it by 128\n",
    "    data_int = np.array(struct.unpack(f\"{2 * CHUNK}h\", data), dtype=np.int16) + 128\n",
    "\n",
    "    # compute FFT and update line\n",
    "    yf = fft(data_int)\n",
    "    line_fft.set_ydata(np.abs(yf[0:CHUNK]) / np.max(np.abs(yf[0:CHUNK])))  # Normalize by the maximum value\n",
    "\n",
    "    stream.write(data)\n",
    "\n",
    "    # Find maximum frequency and value for each range\n",
    "    max_freqs = []\n",
    "    max_values = []\n",
    "    for freq_range, chosen_indices in zip(chosen_frequencies, [chosen_indices_1, chosen_indices_2]):\n",
    "        range_values = np.abs(yf[chosen_indices]) / np.max(np.abs(yf[chosen_indices]))  # Normalize by the maximum value\n",
    "        max_index = np.argmax(range_values)\n",
    "        max_freq = xf[chosen_indices][max_index]\n",
    "        max_value = range_values[max_index]\n",
    "\n",
    "        max_freqs.append(max_freq)\n",
    "        max_values.append(max_value)\n",
    "\n",
    "    # Send maximum frequencies and values to Arduino\n",
    "    for freq, value in zip(max_freqs, max_values):\n",
    "        print(f\"Frequency: {freq:.2f} Hz, Value: {value:.2f}\")\n",
    "        message = f\"{freq:.2f}:{value}\\n\".encode()  # Encode message as bytes\n",
    "\n",
    "        # Measure the time before sending the message\n",
    "        start_latency = time.time()\n",
    "\n",
    "        arduino.write(message)\n",
    "\n",
    "        # Measure the time after receiving the message\n",
    "        end_latency = time.time()\n",
    "\n",
    "        # Calculate and store the latency\n",
    "        latency = end_latency - start_latency\n",
    "        latencies.append(latency)\n",
    "        # Calculate the average latency\n",
    "        average_latency = np.mean(latencies)\n",
    "        print('Average Latency:', average_latency)\n",
    "\n",
    "    try:\n",
    "        fig.canvas.draw()\n",
    "        fig.canvas.flush_events()\n",
    "        frame_count += 1\n",
    "\n",
    "    except TclError:\n",
    "        # calculate average frame rate\n",
    "        frame_rate = frame_count / (time.time() - start_time)\n",
    "\n",
    "        print('stream stopped')\n",
    "        print('average frame rate = {:.0f} FPS'.format(frame_rate))\n",
    "        break\n",
    "\n",
    "    # Read the next chunk of audio data from the .wav file\n",
    "    data = wav_file.readframes(CHUNK)\n",
    "\n",
    "print('Playback finished')\n"
   ]
  },
  {
   "cell_type": "code",
   "execution_count": null,
   "metadata": {},
   "outputs": [
    {
     "ename": "KeyboardInterrupt",
     "evalue": "",
     "output_type": "error",
     "traceback": [
      "\u001b[1;31m---------------------------------------------------------------------------\u001b[0m",
      "\u001b[1;31mKeyboardInterrupt\u001b[0m                         Traceback (most recent call last)",
      "Cell \u001b[1;32mIn[1], line 84\u001b[0m, in \u001b[0;36mAudioStream.update\u001b[1;34m(self)\u001b[0m\n\u001b[0;32m     83\u001b[0m \u001b[39mdef\u001b[39;00m \u001b[39mupdate\u001b[39m(\u001b[39mself\u001b[39m):\n\u001b[1;32m---> 84\u001b[0m     wf_data \u001b[39m=\u001b[39m \u001b[39mself\u001b[39;49m\u001b[39m.\u001b[39;49mstream\u001b[39m.\u001b[39;49mread(\u001b[39mself\u001b[39;49m\u001b[39m.\u001b[39;49mCHUNK)\n\u001b[0;32m     85\u001b[0m     wf_data \u001b[39m=\u001b[39m struct\u001b[39m.\u001b[39munpack(\u001b[39mstr\u001b[39m(\u001b[39m2\u001b[39m \u001b[39m*\u001b[39m \u001b[39mself\u001b[39m\u001b[39m.\u001b[39mCHUNK) \u001b[39m+\u001b[39m \u001b[39m'\u001b[39m\u001b[39mB\u001b[39m\u001b[39m'\u001b[39m, wf_data)\n\u001b[0;32m     86\u001b[0m     wf_data \u001b[39m=\u001b[39m np\u001b[39m.\u001b[39marray(wf_data, dtype\u001b[39m=\u001b[39m\u001b[39m'\u001b[39m\u001b[39mint32\u001b[39m\u001b[39m'\u001b[39m)[::\u001b[39m2\u001b[39m] \u001b[39m+\u001b[39m \u001b[39m128\u001b[39m\n",
      "File \u001b[1;32mc:\\Users\\rajka\\AppData\\Local\\Programs\\Python\\Python311\\Lib\\site-packages\\pyaudio\\__init__.py:570\u001b[0m, in \u001b[0;36mPyAudio.Stream.read\u001b[1;34m(self, num_frames, exception_on_overflow)\u001b[0m\n\u001b[0;32m    567\u001b[0m \u001b[39mif\u001b[39;00m \u001b[39mnot\u001b[39;00m \u001b[39mself\u001b[39m\u001b[39m.\u001b[39m_is_input:\n\u001b[0;32m    568\u001b[0m     \u001b[39mraise\u001b[39;00m \u001b[39mIOError\u001b[39;00m(\u001b[39m\"\u001b[39m\u001b[39mNot input stream\u001b[39m\u001b[39m\"\u001b[39m,\n\u001b[0;32m    569\u001b[0m                   paCanNotReadFromAnOutputOnlyStream)\n\u001b[1;32m--> 570\u001b[0m \u001b[39mreturn\u001b[39;00m pa\u001b[39m.\u001b[39;49mread_stream(\u001b[39mself\u001b[39;49m\u001b[39m.\u001b[39;49m_stream, num_frames,\n\u001b[0;32m    571\u001b[0m                       exception_on_overflow)\n",
      "\u001b[1;31mKeyboardInterrupt\u001b[0m: "
     ]
    }
   ],
   "source": []
  },
  {
   "cell_type": "code",
   "execution_count": null,
   "metadata": {},
   "outputs": [
    {
     "ename": "KeyboardInterrupt",
     "evalue": "",
     "output_type": "error",
     "traceback": [
      "\u001b[1;31m---------------------------------------------------------------------------\u001b[0m",
      "\u001b[1;31mKeyboardInterrupt\u001b[0m                         Traceback (most recent call last)",
      "Cell \u001b[1;32mIn[1], line 83\u001b[0m, in \u001b[0;36mAudioStream.update\u001b[1;34m(self)\u001b[0m\n\u001b[0;32m     82\u001b[0m \u001b[39mdef\u001b[39;00m \u001b[39mupdate\u001b[39m(\u001b[39mself\u001b[39m):\n\u001b[1;32m---> 83\u001b[0m     wf_data \u001b[39m=\u001b[39m \u001b[39mself\u001b[39;49m\u001b[39m.\u001b[39;49mstream\u001b[39m.\u001b[39;49mread(\u001b[39mself\u001b[39;49m\u001b[39m.\u001b[39;49mCHUNK, exception_on_overflow\u001b[39m=\u001b[39;49m\u001b[39mFalse\u001b[39;49;00m)\n\u001b[0;32m     84\u001b[0m     wf_data \u001b[39m=\u001b[39m struct\u001b[39m.\u001b[39munpack(\u001b[39mstr\u001b[39m(\u001b[39m2\u001b[39m \u001b[39m*\u001b[39m \u001b[39mself\u001b[39m\u001b[39m.\u001b[39mCHUNK) \u001b[39m+\u001b[39m \u001b[39m'\u001b[39m\u001b[39mB\u001b[39m\u001b[39m'\u001b[39m, wf_data)\n\u001b[0;32m     85\u001b[0m     wf_data \u001b[39m=\u001b[39m np\u001b[39m.\u001b[39marray(wf_data, dtype\u001b[39m=\u001b[39m\u001b[39m'\u001b[39m\u001b[39mint32\u001b[39m\u001b[39m'\u001b[39m)[::\u001b[39m2\u001b[39m] \u001b[39m+\u001b[39m \u001b[39m128\u001b[39m\n",
      "File \u001b[1;32mc:\\Users\\rajka\\AppData\\Local\\Programs\\Python\\Python311\\Lib\\site-packages\\pyaudio\\__init__.py:570\u001b[0m, in \u001b[0;36mPyAudio.Stream.read\u001b[1;34m(self, num_frames, exception_on_overflow)\u001b[0m\n\u001b[0;32m    567\u001b[0m \u001b[39mif\u001b[39;00m \u001b[39mnot\u001b[39;00m \u001b[39mself\u001b[39m\u001b[39m.\u001b[39m_is_input:\n\u001b[0;32m    568\u001b[0m     \u001b[39mraise\u001b[39;00m \u001b[39mIOError\u001b[39;00m(\u001b[39m\"\u001b[39m\u001b[39mNot input stream\u001b[39m\u001b[39m\"\u001b[39m,\n\u001b[0;32m    569\u001b[0m                   paCanNotReadFromAnOutputOnlyStream)\n\u001b[1;32m--> 570\u001b[0m \u001b[39mreturn\u001b[39;00m pa\u001b[39m.\u001b[39;49mread_stream(\u001b[39mself\u001b[39;49m\u001b[39m.\u001b[39;49m_stream, num_frames,\n\u001b[0;32m    571\u001b[0m                       exception_on_overflow)\n",
      "\u001b[1;31mKeyboardInterrupt\u001b[0m: "
     ]
    }
   ],
   "source": []
  }
 ],
 "metadata": {
  "anaconda-cloud": {},
  "kernelspec": {
   "display_name": "Python 3",
   "language": "python",
   "name": "python3"
  },
  "language_info": {
   "codemirror_mode": {
    "name": "ipython",
    "version": 3
   },
   "file_extension": ".py",
   "mimetype": "text/x-python",
   "name": "python",
   "nbconvert_exporter": "python",
   "pygments_lexer": "ipython3",
   "version": "3.11.3"
  }
 },
 "nbformat": 4,
 "nbformat_minor": 1
}
