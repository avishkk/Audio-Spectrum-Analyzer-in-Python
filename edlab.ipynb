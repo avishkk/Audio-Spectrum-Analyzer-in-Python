import numpy as np
import struct
import pyaudio
import matplotlib.pyplot as plt
import serial
import time

# Constants
CHUNK = 1024  # Number of frames per buffer
RATE = 44100  # Sampling rate

# PyAudio class instance
p = pyaudio.PyAudio()

# Stream object to get data from the microphone
stream = p.open(
    format=pyaudio.paInt16,
    channels=1,
    rate=RATE,
    input=True,
    frames_per_buffer=CHUNK
)

# Create matplotlib figure and axes
fig, ax = plt.subplots(figsize=(10, 4))

# Arduino serial communication
arduino = serial.Serial('COM3', 9600)  # Replace 'COM3' with the appropriate port and baud rate

# Variable for plotting
x = np.arange(0, 2 * CHUNK, 2)  # Samples (waveform)
xf = np.linspace(0, RATE, CHUNK)  # Frequencies (spectrum)

# Create a line object with random data
line, = ax.plot(x, np.random.rand(CHUNK), '-', lw=2)

# Format waveform axes
ax.set_title('Audio Waveform')
ax.set_xlabel('Samples')
ax.set_ylabel('Volume')
ax.set_ylim(0, 255)
ax.set_xlim(0, 2 * CHUNK)
plt.setp(ax, xticks=[0, CHUNK, 2 * CHUNK], yticks=[0, 128, 255])

# Show the plot
plt.show(block=False)

print('Stream started')
chosen_frequencies = [100, 250, 500, 750, 1000, 2500]
# Indices corresponding to chosen frequencies
chosen_indices = [np.abs(xf - freq).argmin() for freq in chosen_frequencies]
frame_count = 0
start_time = time.time()

# Main loop
while True:
    # Read audio data from the stream
    data = stream.read(CHUNK)

    # Convert data to integers
    data_int = np.array(struct.unpack(f"{CHUNK}h", data), dtype=np.int16)

    # Update line with new data
    line.set_ydata(data_int)

    # Update the figure canvas
    fig.canvas.draw()
    fig.canvas.flush_events()

    # Compute FFT
    yf = np.fft.fft(data_int)

    # Send frequency and value to Arduino
    for freq, index in zip(chosen_frequencies, chosen_indices):
        value = np.abs(yf[index]) / (128 * CHUNK)
        print(f"Frequency: {freq} Hz, Value: {value}")
        message = f"{freq}:{value}\n".encode()  # Encode message as bytes
        arduino.write(message)

    frame_count += 1

    # Calculate and display the frame rate
    if frame_count % 100 == 0:
        elapsed_time = time.time() - start_time
        frame_rate = frame_count / elapsed_time
        print(f"Frame rate: {frame_rate:.2f} FPS")

# Cleanup
stream.stop_stream()
stream.close()
p.terminate()
arduino.close()
